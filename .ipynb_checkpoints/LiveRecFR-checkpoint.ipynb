{
 "cells": [
  {
   "cell_type": "code",
   "execution_count": 2,
   "id": "61466e23",
   "metadata": {},
   "outputs": [],
   "source": [
    "import face_recognition\n",
    "import cv2\n",
    "import numpy as np\n",
    "import os"
   ]
  },
  {
   "cell_type": "code",
   "execution_count": 3,
   "id": "def89e5b",
   "metadata": {},
   "outputs": [],
   "source": [
    "BASE_DIR = \"C:\\\\Users\\\\vansh\\\\Desktop\\\\i\"\n",
    "image_dir = os.path.join(BASE_DIR,\"n\")\n",
    "video_capture = cv2.VideoCapture(0)"
   ]
  },
  {
   "cell_type": "code",
   "execution_count": null,
   "id": "ec25eced",
   "metadata": {},
   "outputs": [],
   "source": [
    "face = face_recognition.load_image_file(\"n\\\\Vanshit Kandoi.jpg\")\n",
    "encoding = face_recognition.face_encodings(face)[0]\n"
   ]
  },
  {
   "cell_type": "code",
   "execution_count": null,
   "id": "8860ad74",
   "metadata": {},
   "outputs": [],
   "source": [
    "cv2.imshow('i',face)"
   ]
  }
 ],
 "metadata": {
  "kernelspec": {
   "display_name": "Python 3 (ipykernel)",
   "language": "python",
   "name": "python3"
  },
  "language_info": {
   "codemirror_mode": {
    "name": "ipython",
    "version": 3
   },
   "file_extension": ".py",
   "mimetype": "text/x-python",
   "name": "python",
   "nbconvert_exporter": "python",
   "pygments_lexer": "ipython3",
   "version": "3.8.8"
  }
 },
 "nbformat": 4,
 "nbformat_minor": 5
}
