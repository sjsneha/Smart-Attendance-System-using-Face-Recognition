{
 "cells": [
  {
   "cell_type": "code",
   "execution_count": 12,
   "metadata": {},
   "outputs": [],
   "source": [
    "import face_recognition\n",
    "import cv2\n",
    "import numpy as np\n",
    "from skimage.io import imread"
   ]
  },
  {
   "cell_type": "code",
   "execution_count": 13,
   "metadata": {},
   "outputs": [],
   "source": [
    "video_capture = cv2.VideoCapture(0)\n",
    "\n",
    "def classify_face():\n",
    "    \n",
    "#     faces = get_encoded_faces()\n",
    "#     known_face_encodings = list(faces.values())\n",
    "#     known_face_names = list(faces.keys())\n",
    "\n",
    "    # Load\n",
    "    faces = np.load('encoding.npy',allow_pickle='TRUE').item()\n",
    "    \n",
    "    known_face_encodings = list(faces.values())\n",
    "    known_face_names = list(faces.keys())\n",
    "    \n",
    "    # Initialize some variable\n",
    "    face_locations = []\n",
    "    face_encodings = []\n",
    "    face_names = []\n",
    "    process_this_frame = True\n",
    "\n",
    "    while True:\n",
    "        ret, frame = video_capture.read()\n",
    "        \n",
    "        small_frame = cv2.resize(frame, (0,0), None, fx=0.25, fy=0.25)\n",
    "\n",
    "        rgb_small_frame = small_frame#[:,:,::-1]\n",
    "        \n",
    "        #face_locations = face_recognition.face_locations(rgb_small_frame, model='hog')\n",
    "        face_locations = face_recognition.face_locations(rgb_small_frame, model='cnn')\n",
    "        face_encodings = face_recognition.face_encodings(rgb_small_frame, face_locations)\n",
    "        \n",
    "        name =\"Not Detected\"\n",
    "        \n",
    "        for encodeFace,faceLoc in zip(face_encodings, face_locations):\n",
    "            matches = face_recognition.compare_faces(known_face_encodings,encodeFace,0.5)\n",
    "            faceDis = face_recognition.face_distance(known_face_encodings, encodeFace)\n",
    "            matchIndex = np.argmin(faceDis)\n",
    "            \n",
    "            \n",
    "            #if True in matches:\n",
    "            if matches[matchIndex]:\n",
    "                matchIndex = matches.index(True)\n",
    "                name = known_face_names[matchIndex]\n",
    "                \n",
    "            elif (False == (True in matches)):\n",
    "                name =\"Unknown\"\n",
    "                \n",
    "            y1,x2,y2,x1 = faceLoc\n",
    "            y1,x2,y2,x1 = y1*4,x2*4,y2*4,x1*4\n",
    "            cv2.rectangle(frame, (x1,y1), (x2,y2), (0,255,0),2)\n",
    "            cv2.rectangle(frame,(x1,y2-35), (x2,y2), (0,255,0), cv2.FILLED)\n",
    "            cv2.putText(frame, name, (x1+6,y2-6),cv2.FONT_HERSHEY_COMPLEX,0.5,(255,255,255),2)\n",
    "            #for i, faceDis in enumerate(faceDis):\n",
    "                #cv2.putText(frame, str(round(faceDis,2)), (x2-55,y2-6),cv2.FONT_HERSHEY_COMPLEX,0.8,(255,255,255),2 )\n",
    "            #cv2.putText(frame, str(round(faceDis[1],2)), (x2-40,y2-6),cv2.FONT_HERSHEY_COMPLEX,0.8,(255,255,255),1)\n",
    "            \n",
    "        if name==\"Not Detected\":\n",
    "            cv2.putText(frame, name, (5,50),cv2.FONT_HERSHEY_COMPLEX,2,(0,0,255),2)\n",
    "        \n",
    "        # Display Result\n",
    "        cv2.imshow(\"Video\", frame)\n",
    "        cv2.imwrite('DetectedFaces/faces_detected.jpg', frame)\n",
    "        \n",
    "        if cv2.waitKey(1) & 0xFF == ord('q'):\n",
    "            #print(str(round(faceDis,2)))\n",
    "            print(name)\n",
    "            break\n",
    "        \n",
    "        if name != \"Not Detected\":\n",
    "            if name != 'Unknown':\n",
    "                #print(str(round(faceDis,2)))\n",
    "                print(name)\n",
    "                cv2.waitKey(0)\n",
    "                video_capture.release()\n",
    "                cv2.destroyAllWindows()\n",
    "                return name\n",
    "            else:\n",
    "                print(name)\n",
    "                cv2.waitKey(0)\n",
    "            break\n",
    "        \n",
    "    video_capture.release()\n",
    "    cv2.destroyAllWindows()"
   ]
  },
  {
   "cell_type": "code",
   "execution_count": 14,
   "metadata": {},
   "outputs": [
    {
     "name": "stdout",
     "output_type": "stream",
     "text": [
      "Vanshit Kandoi\n"
     ]
    }
   ],
   "source": [
    "Detected_face = classify_face()"
   ]
  },
  {
   "cell_type": "code",
   "execution_count": 11,
   "metadata": {
    "scrolled": true
   },
   "outputs": [
    {
     "name": "stdout",
     "output_type": "stream",
     "text": [
      "['Vanshit Kandoi', '20BCE2667', '9310104495', 'O+']\n"
     ]
    }
   ],
   "source": [
    "import csv\n",
    "\n",
    "with open('DATA.csv', 'r') as file:\n",
    "    reader = csv.reader(file)\n",
    "    for row in reader:\n",
    "        #print(row[0])\n",
    "        if row[0] == Detected_face:\n",
    "            print(row)"
   ]
  }
 ],
 "metadata": {
  "kernelspec": {
   "display_name": "Python 3 (ipykernel)",
   "language": "python",
   "name": "python3"
  },
  "language_info": {
   "codemirror_mode": {
    "name": "ipython",
    "version": 3
   },
   "file_extension": ".py",
   "mimetype": "text/x-python",
   "name": "python",
   "nbconvert_exporter": "python",
   "pygments_lexer": "ipython3",
   "version": "3.8.12"
  }
 },
 "nbformat": 4,
 "nbformat_minor": 4
}
