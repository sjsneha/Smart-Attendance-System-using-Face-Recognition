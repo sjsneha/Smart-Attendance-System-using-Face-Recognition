{
 "cells": [
  {
   "cell_type": "markdown",
   "metadata": {},
   "source": [
    "## Renaming the Unregistered Students: "
   ]
  },
  {
   "cell_type": "code",
   "execution_count": 31,
   "metadata": {},
   "outputs": [
    {
     "name": "stdout",
     "output_type": "stream",
     "text": [
      "Enter the Unique ID of the Student whose name should be re-written: 1\n",
      "Enter Actual Name: 20BCE2667\n"
     ]
    }
   ],
   "source": [
    "unknown = 'Unknown'\n",
    "unknown += input('Enter the Unique ID of the Student whose name should be re-written: ')\n",
    "known = input('Enter Actual Name: ')"
   ]
  },
  {
   "cell_type": "code",
   "execution_count": 32,
   "metadata": {},
   "outputs": [],
   "source": [
    "import numpy as np\n",
    "faces = np.load('encoding.npy',allow_pickle='TRUE').item()\n",
    "value = faces[unknown]\n",
    "del faces[unknown]\n",
    "faces[known] = value\n",
    "np.save('encoding.npy', faces)"
   ]
  },
  {
   "cell_type": "code",
   "execution_count": null,
   "metadata": {},
   "outputs": [],
   "source": []
  },
  {
   "cell_type": "markdown",
   "metadata": {},
   "source": [
    "## Face Recognition "
   ]
  },
  {
   "cell_type": "code",
   "execution_count": 2,
   "metadata": {},
   "outputs": [],
   "source": [
    "import face_recognition\n",
    "import cv2\n",
    "import numpy as np\n",
    "from skimage.io import imread\n",
    "import os"
   ]
  },
  {
   "cell_type": "code",
   "execution_count": 3,
   "metadata": {},
   "outputs": [
    {
     "data": {
      "text/plain": [
       "2"
      ]
     },
     "execution_count": 3,
     "metadata": {},
     "output_type": "execute_result"
    }
   ],
   "source": [
    "# import numpy as np\n",
    "\n",
    "# count = 0\n",
    "# faces = np.load('encoding.npy',allow_pickle='TRUE').item()\n",
    "# known_face_names = list(faces.keys())\n",
    "# if known_face_names[-1][:7] == 'Unknown':\n",
    "#     count = int(known_face_names[-1][7:])\n",
    "# count\n",
    "\n",
    "file = open(\"global_count.txt\", \"r\")\n",
    "count = int(file.read())\n",
    "file.close()\n",
    "count"
   ]
  },
  {
   "cell_type": "code",
   "execution_count": 4,
   "metadata": {},
   "outputs": [],
   "source": [
    "def encoding(name1):\n",
    "    #Load\n",
    "    faces = np.load('encoding.npy',allow_pickle='TRUE').item()\n",
    "\n",
    "    encoded = {}\n",
    "    face = imread('load-wb/'+ name1 +'.jpg')                      # Without Box - wb\n",
    "    encoding = face_recognition.face_encodings(face)[0]\n",
    "    #print(type(encoding))\n",
    "    encoded[name1] = encoding\n",
    "    faces.update(encoded)\n",
    "\n",
    "    # Save\n",
    "    np.save('encoding.npy', faces)"
   ]
  },
  {
   "cell_type": "code",
   "execution_count": 7,
   "metadata": {},
   "outputs": [],
   "source": [
    "video_capture = cv2.VideoCapture(0)\n",
    "\n",
    "def classify_face():\n",
    "    global_count = count\n",
    "#     faces = get_encoded_faces()\n",
    "#     known_face_encodings = list(faces.values())\n",
    "#     known_face_names = list(faces.keys())\n",
    "\n",
    "    # Load\n",
    "    faces = np.load('encoding.npy',allow_pickle='TRUE').item()\n",
    "    \n",
    "    known_face_encodings = list(faces.values())\n",
    "    known_face_names = list(faces.keys())\n",
    "    \n",
    "    # Initialize some variable\n",
    "    face_locations = []\n",
    "    face_encodings = []\n",
    "    face_names = []\n",
    "    process_this_frame = True\n",
    "    nameList = []\n",
    "\n",
    "    while True:\n",
    "        ret, frame = video_capture.read()\n",
    "        \n",
    "        small_frame = cv2.resize(frame, (0,0), None, fx=0.25, fy=0.25)\n",
    "\n",
    "        rgb_small_frame = small_frame#[:,:,::-1]\n",
    "        \n",
    "        #face_locations = face_recognition.face_locations(rgb_small_frame, model='hog')\n",
    "        face_locations = face_recognition.face_locations(rgb_small_frame, model='cnn')\n",
    "        face_encodings = face_recognition.face_encodings(rgb_small_frame, face_locations)\n",
    "        \n",
    "        name =\"Not Detected\"\n",
    "        \n",
    "        for encodeFace,faceLoc in zip(face_encodings, face_locations):\n",
    "            matches = face_recognition.compare_faces(known_face_encodings,encodeFace,0.5)\n",
    "            faceDis = face_recognition.face_distance(known_face_encodings, encodeFace)\n",
    "            matchIndex = np.argmin(faceDis)\n",
    "            \n",
    "            \n",
    "            #if True in matches:\n",
    "            if matches[matchIndex]:\n",
    "                matchIndex = matches.index(True)\n",
    "                name = known_face_names[matchIndex]\n",
    "                \n",
    "            elif (False == (True in matches)):\n",
    "                global_count += 1\n",
    "                file = open(\"global_count.txt\", \"w\")\n",
    "                file.write(str(global_count))\n",
    "                file.close()\n",
    "                name =\"Unknown\"+str(global_count)\n",
    "                y1,x2,y2,x1 = faceLoc\n",
    "                y1,x2,y2,x1 = y1*4,x2*4,y2*4,x1*4\n",
    "                cframe = frame[y1-10:y2+10, x1-10:x2+10]  #[x1:x2, y1:y2]  # Cropped Frame - image[start_x:end_x, start_y:end_y]\n",
    "                cv2.imwrite('load-wb/'+ name +'.jpg', cframe)\n",
    "                print(name)\n",
    "                encoding(name)\n",
    "                faces = np.load('encoding.npy',allow_pickle='TRUE').item()\n",
    "                known_face_encodings = list(faces.values())\n",
    "                known_face_names = list(faces.keys())\n",
    "                # print(x1,x2,y1,y2) # print(frame.shape)\n",
    "                \n",
    "            \n",
    "            y1,x2,y2,x1 = faceLoc\n",
    "            y1,x2,y2,x1 = y1*4,x2*4,y2*4,x1*4\n",
    "            cv2.rectangle(frame, (x1,y1), (x2,y2), (0,255,0),2)\n",
    "            cv2.rectangle(frame,(x1,y2-35), (x2,y2), (0,255,0), cv2.FILLED)\n",
    "            cv2.putText(frame, name, (x1+6,y2-6),cv2.FONT_HERSHEY_COMPLEX,0.5,(255,255,255),2)\n",
    "            cframe = frame[y1-10:y2+10, x1-10:x2+10]  #[x1:x2, y1:y2]  # Cropped Frame - image[start_x:end_x, start_y:end_y]\n",
    "            cv2.imwrite('load/'+ name +'.jpg', cframe)\n",
    "            nameList.append(name)\n",
    "            print(name,end=\"\")\n",
    "            print()\n",
    "            #for i, faceDis in enumerate(faceDis):\n",
    "                #cv2.putText(frame, str(round(faceDis,2)), (x2-55,y2-6),cv2.FONT_HERSHEY_COMPLEX,0.8,(255,255,255),2 )\n",
    "            #cv2.putText(frame, str(round(faceDis[1],2)), (x2-40,y2-6),cv2.FONT_HERSHEY_COMPLEX,0.8,(255,255,255),1)\n",
    "            \n",
    "        if name==\"Not Detected\":\n",
    "            cv2.putText(frame, name, (5,50),cv2.FONT_HERSHEY_COMPLEX,2,(0,0,255),2)\n",
    "        \n",
    "        # Display Result\n",
    "        cv2.imshow(\"Video\", frame)\n",
    "        cv2.imwrite('DetectedFaces/faces_detected.jpg', frame)\n",
    "        \n",
    "        if cv2.waitKey(1) & 0xFF == ord('q'):\n",
    "            #print(str(round(faceDis,2)))\n",
    "            print(name)\n",
    "            break\n",
    "        \n",
    "        if name != \"Not Detected\":\n",
    "            if name != 'Unknown':\n",
    "                pass\n",
    "                #print(str(round(faceDis,2)))\n",
    "#                 print(name)################################\n",
    "#                 cv2.waitKey(0)\n",
    "#                 video_capture.release()\n",
    "#                 cv2.destroyAllWindows()\n",
    "#                 nameList.append(name)##############################\n",
    "#                 return name\n",
    "            else:\n",
    "                pass\n",
    "#                 print(name)\n",
    "#                 cframe = frame[x1:x2, y1:y2]  # Cropped Frame\n",
    "#                 cv2.imwrite('load-wb/'+ name +'.jpg', cframe)\n",
    "                \n",
    "#                 cv2.imwrite('load-wb/'+ name +'.jpg', frame)\n",
    "#                 cv2.waitKey(0)\n",
    "#             break\n",
    "    \n",
    "    file = open(\"global_count.txt\", \"w\")\n",
    "    file.write(str(global_count))\n",
    "    file.close() \n",
    "    \n",
    "    video_capture.release()\n",
    "    cv2.destroyAllWindows()\n",
    "    return nameList"
   ]
  },
  {
   "cell_type": "code",
   "execution_count": 8,
   "metadata": {
    "scrolled": true
   },
   "outputs": [
    {
     "name": "stdout",
     "output_type": "stream",
     "text": [
      "20BCE2667\n",
      "Unknown3\n",
      "Unknown3\n",
      "20BCE2667\n",
      "Unknown3\n",
      "20BCE2667\n",
      "Unknown3\n",
      "Unknown3\n"
     ]
    }
   ],
   "source": [
    "Detected_face = classify_face()"
   ]
  },
  {
   "cell_type": "code",
   "execution_count": 9,
   "metadata": {},
   "outputs": [
    {
     "data": {
      "text/plain": [
       "['20BCE2667', 'Unknown3']"
      ]
     },
     "execution_count": 9,
     "metadata": {},
     "output_type": "execute_result"
    }
   ],
   "source": [
    "f = list(set(Detected_face))\n",
    "f.sort()\n",
    "f"
   ]
  },
  {
   "cell_type": "code",
   "execution_count": 10,
   "metadata": {
    "scrolled": true
   },
   "outputs": [
    {
     "name": "stdout",
     "output_type": "stream",
     "text": [
      "['Abhinav Jaiswal', '20BCE2624', '8957058660', 'AB+']\n"
     ]
    }
   ],
   "source": [
    "import csv\n",
    "\n",
    "with open('DATA.csv', 'r') as file:\n",
    "    reader = csv.reader(file)\n",
    "    for row in reader:\n",
    "        #print(row[0])\n",
    "        if row[0] == Detected_face:\n",
    "            print(row)"
   ]
  },
  {
   "cell_type": "code",
   "execution_count": null,
   "metadata": {},
   "outputs": [],
   "source": []
  },
  {
   "cell_type": "code",
   "execution_count": 12,
   "metadata": {
    "scrolled": true
   },
   "outputs": [
    {
     "data": {
      "text/plain": [
       "['20BCE2667', 'Unknown3']"
      ]
     },
     "execution_count": 12,
     "metadata": {},
     "output_type": "execute_result"
    }
   ],
   "source": [
    "f = list(set(Detected_face))\n",
    "f.sort()\n",
    "f"
   ]
  },
  {
   "cell_type": "code",
   "execution_count": 17,
   "metadata": {},
   "outputs": [],
   "source": [
    "f[0] = '20BCE2624'"
   ]
  },
  {
   "cell_type": "code",
   "execution_count": 18,
   "metadata": {},
   "outputs": [
    {
     "name": "stderr",
     "output_type": "stream",
     "text": [
      "C:\\Users\\vansh\\AppData\\Local\\Temp/ipykernel_9720/323104069.py:26: SettingWithCopyWarning: \n",
      "A value is trying to be set on a copy of a slice from a DataFrame\n",
      "\n",
      "See the caveats in the documentation: https://pandas.pydata.org/pandas-docs/stable/user_guide/indexing.html#returning-a-view-versus-a-copy\n",
      "  df['Status'][i] = 'Present'\n",
      "C:\\Users\\vansh\\anaconda3\\lib\\site-packages\\pandas\\core\\indexing.py:1732: SettingWithCopyWarning: \n",
      "A value is trying to be set on a copy of a slice from a DataFrame\n",
      "\n",
      "See the caveats in the documentation: https://pandas.pydata.org/pandas-docs/stable/user_guide/indexing.html#returning-a-view-versus-a-copy\n",
      "  self._setitem_single_block(indexer, value, name)\n"
     ]
    },
    {
     "data": {
      "text/html": [
       "<div>\n",
       "<style scoped>\n",
       "    .dataframe tbody tr th:only-of-type {\n",
       "        vertical-align: middle;\n",
       "    }\n",
       "\n",
       "    .dataframe tbody tr th {\n",
       "        vertical-align: top;\n",
       "    }\n",
       "\n",
       "    .dataframe thead th {\n",
       "        text-align: right;\n",
       "    }\n",
       "</style>\n",
       "<table border=\"1\" class=\"dataframe\">\n",
       "  <thead>\n",
       "    <tr style=\"text-align: right;\">\n",
       "      <th></th>\n",
       "      <th>Name</th>\n",
       "      <th>Reg.No.</th>\n",
       "      <th>Status</th>\n",
       "    </tr>\n",
       "  </thead>\n",
       "  <tbody>\n",
       "    <tr>\n",
       "      <th>0</th>\n",
       "      <td>Vanshit Kandoi</td>\n",
       "      <td>20BCE2667</td>\n",
       "      <td>Absent</td>\n",
       "    </tr>\n",
       "    <tr>\n",
       "      <th>1</th>\n",
       "      <td>Abhinav Jaiswal</td>\n",
       "      <td>20BCE2624</td>\n",
       "      <td>Present</td>\n",
       "    </tr>\n",
       "    <tr>\n",
       "      <th>2</th>\n",
       "      <td>Sneha Jayshri</td>\n",
       "      <td>20BCE2673</td>\n",
       "      <td>Absent</td>\n",
       "    </tr>\n",
       "    <tr>\n",
       "      <th>3</th>\n",
       "      <td>Ben Afflek</td>\n",
       "      <td>ABC1</td>\n",
       "      <td>Absent</td>\n",
       "    </tr>\n",
       "    <tr>\n",
       "      <th>4</th>\n",
       "      <td>Jerry Seinfeld</td>\n",
       "      <td>ABC2</td>\n",
       "      <td>Absent</td>\n",
       "    </tr>\n",
       "    <tr>\n",
       "      <th>5</th>\n",
       "      <td>Elton John</td>\n",
       "      <td>ABC3</td>\n",
       "      <td>Absent</td>\n",
       "    </tr>\n",
       "    <tr>\n",
       "      <th>6</th>\n",
       "      <td>Madonna</td>\n",
       "      <td>ABC4</td>\n",
       "      <td>Absent</td>\n",
       "    </tr>\n",
       "    <tr>\n",
       "      <th>7</th>\n",
       "      <td>Mindy Kaling</td>\n",
       "      <td>ABC5</td>\n",
       "      <td>Absent</td>\n",
       "    </tr>\n",
       "    <tr>\n",
       "      <th>8</th>\n",
       "      <td>Govinda</td>\n",
       "      <td>XYZ1</td>\n",
       "      <td>Absent</td>\n",
       "    </tr>\n",
       "    <tr>\n",
       "      <th>9</th>\n",
       "      <td>Tabu</td>\n",
       "      <td>XYZ2</td>\n",
       "      <td>Absent</td>\n",
       "    </tr>\n",
       "    <tr>\n",
       "      <th>10</th>\n",
       "      <td>Vaani_Kapoor</td>\n",
       "      <td>XYZ3</td>\n",
       "      <td>Absent</td>\n",
       "    </tr>\n",
       "    <tr>\n",
       "      <th>11</th>\n",
       "      <td>Vicky_Kaushal</td>\n",
       "      <td>XYZ4</td>\n",
       "      <td>Absent</td>\n",
       "    </tr>\n",
       "    <tr>\n",
       "      <th>12</th>\n",
       "      <td>NaN</td>\n",
       "      <td>20BCE2624</td>\n",
       "      <td>Absent</td>\n",
       "    </tr>\n",
       "    <tr>\n",
       "      <th>13</th>\n",
       "      <td>NaN</td>\n",
       "      <td>Unknown3</td>\n",
       "      <td>Present</td>\n",
       "    </tr>\n",
       "  </tbody>\n",
       "</table>\n",
       "</div>"
      ],
      "text/plain": [
       "               Name    Reg.No.   Status\n",
       "0    Vanshit Kandoi  20BCE2667   Absent\n",
       "1   Abhinav Jaiswal  20BCE2624  Present\n",
       "2     Sneha Jayshri  20BCE2673   Absent\n",
       "3        Ben Afflek       ABC1   Absent\n",
       "4    Jerry Seinfeld       ABC2   Absent\n",
       "5        Elton John       ABC3   Absent\n",
       "6           Madonna       ABC4   Absent\n",
       "7      Mindy Kaling       ABC5   Absent\n",
       "8           Govinda       XYZ1   Absent\n",
       "9              Tabu       XYZ2   Absent\n",
       "10     Vaani_Kapoor       XYZ3   Absent\n",
       "11    Vicky_Kaushal       XYZ4   Absent\n",
       "12              NaN  20BCE2624   Absent\n",
       "13              NaN   Unknown3  Present"
      ]
     },
     "execution_count": 18,
     "metadata": {},
     "output_type": "execute_result"
    }
   ],
   "source": [
    "import pandas as pd\n",
    "df = pd.read_csv('Attendance.csv')\n",
    "# df = df.sort_values(by=['Reg.No.'])\n",
    "# j = 0\n",
    "# for i in range(len(df)):\n",
    "#     df['Status'][i] = 'Absent'\n",
    "c= 0 \n",
    "for i in f:\n",
    "    c = 0\n",
    "    for j in range(len(df)):\n",
    "        if i == df['Reg.No.'][j]:\n",
    "            c+=1\n",
    "    if c!=len(df):\n",
    "        new_row = {'Reg.No.':i}\n",
    "        df = df.append(new_row, ignore_index=True)\n",
    "        break\n",
    "#     if i in df['Reg.No.']:\n",
    "        \n",
    "#         print(i)\n",
    "#         new_row = {'Reg.No.':i}\n",
    "#         df = df.append(new_row, ignore_index=True)\n",
    "# print(df)      \n",
    "for j in range(len(f)):\n",
    "    for i in range(len(df)):\n",
    "#         print(df['Reg.No.'][j], f[i])\n",
    "        if df['Reg.No.'][i] == f[j]:\n",
    "            df['Status'][i] = 'Present'\n",
    "            break\n",
    "for i in range(len(df)):\n",
    "    if df['Status'][i] != 'Present':\n",
    "        df['Status'][i] = 'Absent'\n",
    "\n",
    "df"
   ]
  },
  {
   "cell_type": "code",
   "execution_count": null,
   "metadata": {},
   "outputs": [],
   "source": [
    "df.to_csv('Attendance.csv')"
   ]
  }
 ],
 "metadata": {
  "kernelspec": {
   "display_name": "Python 3 (ipykernel)",
   "language": "python",
   "name": "python3"
  },
  "language_info": {
   "codemirror_mode": {
    "name": "ipython",
    "version": 3
   },
   "file_extension": ".py",
   "mimetype": "text/x-python",
   "name": "python",
   "nbconvert_exporter": "python",
   "pygments_lexer": "ipython3",
   "version": "3.8.12"
  }
 },
 "nbformat": 4,
 "nbformat_minor": 4
}
